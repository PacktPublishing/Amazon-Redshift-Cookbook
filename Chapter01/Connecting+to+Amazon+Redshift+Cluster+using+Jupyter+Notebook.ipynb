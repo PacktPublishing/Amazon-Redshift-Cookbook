{
 "cells": [
  {
   "cell_type": "code",
   "execution_count": 1,
   "metadata": {
    "scrolled": true
   },
   "outputs": [
    {
     "name": "stdout",
     "output_type": "stream",
     "text": [
      "Collecting psycopg2-binary\n",
      "  Downloading https://files.pythonhosted.org/packages/f2/1b/720b36697158113ca1b2221a8e96a470088ccf3770d182214689d1a96a07/psycopg2_binary-2.8.6-cp36-cp36m-manylinux1_x86_64.whl (3.0MB)\n",
      "\u001b[K    100% |████████████████████████████████| 3.0MB 451kB/s eta 0:00:01\n",
      "\u001b[?25hInstalling collected packages: psycopg2-binary\n",
      "Successfully installed psycopg2-binary-2.8.6\n",
      "\u001b[33mYou are using pip version 9.0.1, however version 21.0.1 is available.\n",
      "You should consider upgrading via the 'pip install --upgrade pip' command.\u001b[0m\n",
      "Requirement already satisfied: boto3 in /home/ec2-user/anaconda3/envs/python3/lib/python3.6/site-packages\n",
      "Requirement already satisfied: botocore<1.9.0,>=1.8.26 in /home/ec2-user/anaconda3/envs/python3/lib/python3.6/site-packages (from boto3)\n",
      "Requirement already satisfied: s3transfer<0.2.0,>=0.1.10 in /home/ec2-user/anaconda3/envs/python3/lib/python3.6/site-packages (from boto3)\n",
      "Requirement already satisfied: jmespath<1.0.0,>=0.7.1 in /home/ec2-user/anaconda3/envs/python3/lib/python3.6/site-packages (from boto3)\n",
      "Requirement already satisfied: docutils>=0.10 in /home/ec2-user/anaconda3/envs/python3/lib/python3.6/site-packages (from botocore<1.9.0,>=1.8.26->boto3)\n",
      "Requirement already satisfied: python-dateutil<3.0.0,>=2.1 in /home/ec2-user/anaconda3/envs/python3/lib/python3.6/site-packages (from botocore<1.9.0,>=1.8.26->boto3)\n",
      "Requirement already satisfied: six>=1.5 in /home/ec2-user/anaconda3/envs/python3/lib/python3.6/site-packages (from python-dateutil<3.0.0,>=2.1->botocore<1.9.0,>=1.8.26->boto3)\n",
      "\u001b[33mYou are using pip version 9.0.1, however version 21.0.1 is available.\n",
      "You should consider upgrading via the 'pip install --upgrade pip' command.\u001b[0m\n"
     ]
    }
   ],
   "source": [
    "!pip install psycopg2-binary\n",
    "### boto3 is optional, but recommended to leverage the AWS Secrets Manager storing the credentials  Establishing a Redshift Connection\n",
    "!pip install boto3"
   ]
  },
  {
   "cell_type": "code",
   "execution_count": null,
   "metadata": {
    "collapsed": true
   },
   "outputs": [],
   "source": [
    "# Put the ARN of your AWS Secrets Manager secret for your redshift cluster here:\n",
    "secret_arn=\"arn:aws:secretsmanager:us-west-2:123456789012:secret:aes128-1a2b3c\"\n",
    "# This will get the secret from AWS Secrets Manager. \n",
    "import boto3\n",
    "import json\n",
    "session = boto3.session.Session()\n",
    "client = session.client(\n",
    "    service_name='secretsmanager'\n",
    ")\n",
    "get_secret_value_response = client.get_secret_value(\n",
    "    SecretId=secret_arn\n",
    ")\n",
    "\n",
    "if 'SecretString' in get_secret_value_response:\n",
    "    connection_info = json.loads(get_secret_value_response['SecretString'])\n",
    "else:\n",
    "    print(\"ERROR: no secret data found\")\n",
    "# Sanity check for credentials\n",
    "expected_keys = set(['user', 'password', 'host', 'database', 'port'])\n",
    "if not expected_keys.issubset(connection_info.keys()):\n",
    "    print(\"Expected values for \",expected_keys)\n",
    "    print(\"Received values for \",set(connection_info.keys()))\n",
    "    print(\"Please adjust query or assignment as required!\")\n",
    "\n",
    "# jdbc:redshift://HOST:PORT/DBNAME\n",
    "import time\n",
    "import psycopg2\n",
    "\n",
    "con=psycopg2.connect(\n",
    "    dbname   = connection_info[\"database\"], \n",
    "    host     = connection_info[\"host\"], \n",
    "    port     = connection_info[\"port\"], \n",
    "    user     = connection_info[\"user\"], \n",
    "    password = connection_info[\"password\"]\n",
    ")\n"
   ]
  },
  {
   "cell_type": "code",
   "execution_count": null,
   "metadata": {
    "collapsed": true
   },
   "outputs": [],
   "source": [
    "cur = con.cursor()\n",
    "cur.execute(\"SELECT sysdate\")\n",
    "res = cur.fetchall()\n",
    "print(res)\n",
    "cur.close()\n"
   ]
  }
 ],
 "metadata": {
  "kernelspec": {
   "display_name": "conda_python3",
   "language": "python",
   "name": "conda_python3"
  },
  "language_info": {
   "codemirror_mode": {
    "name": "ipython",
    "version": 3
   },
   "file_extension": ".py",
   "mimetype": "text/x-python",
   "name": "python",
   "nbconvert_exporter": "python",
   "pygments_lexer": "ipython3",
   "version": "3.6.2"
  }
 },
 "nbformat": 4,
 "nbformat_minor": 2
}
